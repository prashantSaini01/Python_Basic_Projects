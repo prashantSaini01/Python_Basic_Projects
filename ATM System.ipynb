{
 "cells": [
  {
   "cell_type": "code",
   "execution_count": null,
   "id": "e3decde1",
   "metadata": {},
   "outputs": [],
   "source": [
    "import os\n",
    "import time\n",
    "import math as m"
   ]
  },
  {
   "cell_type": "code",
   "execution_count": 7,
   "id": "3cd9b13b",
   "metadata": {},
   "outputs": [
    {
     "name": "stdout",
     "output_type": "stream",
     "text": [
      "Welcome to ATM Machine\n",
      "Please enter a PIN 0002\n",
      "Please enter a Valid Pin\n",
      "Please enter a PIN 343546\n",
      "Please enter a Valid Pin\n",
      "Please enter a PIN 8520\n"
     ]
    }
   ],
   "source": [
    "def saving_account():\n",
    "  print(\"you not have any saving account\")\n",
    "  return\n",
    "def current_account(Balance):\n",
    "  trans=int(input(\"Please select the give options\\n 1.Check Account Balance\\n 2.Deposit\\n 3.Withdraw \"))\n",
    "  if trans==1:\n",
    "    show_balance(Balance)\n",
    "  elif trans==2:\n",
    "    Balance=deposit(Balance)\n",
    "    print(\"Deposied Successfully\")\n",
    "    receipt()\n",
    "  elif trans == 3:\n",
    "    Balance=withdraw(Balance)\n",
    "    \n",
    "  \n",
    "  else:\n",
    "    print(\"Invalid selection\")  \n",
    "  return Balance\n",
    "def show_balance(Balance):\n",
    "  print(\"you currently Bal INR {}\".format(Balance))\n",
    "  receipt()\n",
    "  return \n",
    "def deposit(Balance):\n",
    "  amount=int(input(\"Enter the amount to deposit (please enter the amount multiple of 500)\"))\n",
    "  if amount%500==0:\n",
    "    Balance+=amount\n",
    "    return Balance\n",
    "  else:\n",
    "    print(\"Please enter the amount multiple of 500\")\n",
    "\n",
    "  return     \n",
    "def withdraw(Balance):\n",
    "  rin=int(input(\"Please enter a PIN \"))\n",
    "  if rin == pin:\n",
    "    print(\"Authentication Verified\")\n",
    "  else:\n",
    "    print(\"You enterd a wrong pin\")\n",
    "    return \n",
    "  draw=int(input(\"Enter the amount you want to withdraw (please enter the amount multiple of 500)\"))\n",
    "  if draw%500==0:\n",
    "    if draw>Balance:\n",
    "      print(\"Insufficient Balance to withdraw\")\n",
    "    else:\n",
    "      Balance-=draw\n",
    "      print(\" {} Debited from your account\".format(draw))\n",
    "      receipt()\n",
    "      return Balance\n",
    "  else:\n",
    "    print(\"please enter the amount multiple of 500\")\n",
    "  return   \n",
    "def receipt():\n",
    "  a=int(input(\"You want to print the receipt\\n 1.yes\\n 2.no \"))\n",
    "  if a==1:\n",
    "    print(\"Receipt printed successfully kindly take it\")\n",
    "  else:\n",
    "    print(\"you contributed to save trees\")\n",
    "    return  "
   ]
  },
  {
   "cell_type": "code",
   "execution_count": null,
   "id": "ae3fa713",
   "metadata": {},
   "outputs": [],
   "source": [
    "\n",
    "print('''   \n",
    "    ___  ________  ___   _____            __           \n",
    "   /   |/_  __/  |/  /  / ___/__  _______/ /____  ____ ___ \n",
    "  / /| | / / / /|_/ /   \\__ \\/ / / / ___/ __/ _ \\/ __ `__ \\\n",
    " / ___ |/ / / /  / /   ___/ / /_/ (__  ) /_/  __/ / / / / /\n",
    "/_/  |_/_/ /_/  /_/   /____/\\__, /____/\\__/\\___/_/ /_/ /_/ \n",
    "                           /____/                          ''')\n"
   ]
  },
  {
   "cell_type": "code",
   "execution_count": null,
   "id": "35b9ebd8",
   "metadata": {},
   "outputs": [],
   "source": [
    "Balance = 15000\n",
    "\n",
    "print(\"Welcome to ATM Machine\")\n",
    "count=1\n",
    "while True:\n",
    "  pin=int(input(\"Please enter a PIN \"))\n",
    "  if(pin<1000 or pin>9999):\n",
    "        count+=1\n",
    "        print(\"Please enter a Valid Pin\")\n",
    "        if count>4:\n",
    "            print(\"You entered wrong pin more than 3 times (your account blocked for 24 hours)\")\n",
    "            break\n",
    "  else:\n",
    "    print(\"Authentication Verified\")\n",
    "    choose=int(input(\"Select your account type\\n 1.Saving Account\\n 2.Current Account \"))\n",
    "    if choose == 1:\n",
    "      saving_account()\n",
    "    elif choose==2:\n",
    "      Balance=current_account(Balance)\n",
    "    else:\n",
    "      print(\"Invalid Input\")\n",
    "\n",
    "    next=int(input(\"You want to do another Transaction\\n 1.yes\\n 2.no \"))\n",
    "    if next==1:\n",
    "      pass\n",
    "    elif next==2:\n",
    "      print(\"Kindly revist to use the services !!Thank you!!\")\n",
    "      break\n",
    "    else:\n",
    "      print(\"Invalid selection\")     \n",
    "\n"
   ]
  }
 ],
 "metadata": {
  "kernelspec": {
   "display_name": "Python 3 (ipykernel)",
   "language": "python",
   "name": "python3"
  },
  "language_info": {
   "codemirror_mode": {
    "name": "ipython",
    "version": 3
   },
   "file_extension": ".py",
   "mimetype": "text/x-python",
   "name": "python",
   "nbconvert_exporter": "python",
   "pygments_lexer": "ipython3",
   "version": "3.11.1"
  }
 },
 "nbformat": 4,
 "nbformat_minor": 5
}
