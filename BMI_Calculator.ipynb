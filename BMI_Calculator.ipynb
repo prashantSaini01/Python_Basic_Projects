{
 "cells": [
  {
   "cell_type": "code",
   "execution_count": 4,
   "id": "d69322d1",
   "metadata": {},
   "outputs": [
    {
     "name": "stdout",
     "output_type": "stream",
     "text": [
      "Enter your height in m: 1.27\n",
      "Enter your weight in kg: 80\n",
      "your BMI is 49 and you are clinically_obese\n"
     ]
    }
   ],
   "source": [
    "height = float(input(\"Enter your height in m: \"))\n",
    "weight = float(input(\"Enter your weight in kg: \"))\n",
    "\n",
    "bmi = int(weight/(height**2))\n",
    "\n",
    "if bmi<=18.5:\n",
    "    state = \"underweight\"\n",
    "elif 18.5 < bmi <=25:\n",
    "    state = \"normal_weight\"\n",
    "elif 25 < bmi <=30:\n",
    "    state = \"overweight\"\n",
    "elif 30 < bmi <=35:\n",
    "    state = \"obese\"\n",
    "else:\n",
    "    state = \"clinically_obese\"\n",
    "    \n",
    "print(f\"your BMI is {bmi} and you are {state}\")\n",
    "\n"
   ]
  }
 ],
 "metadata": {
  "kernelspec": {
   "display_name": "Python 3 (ipykernel)",
   "language": "python",
   "name": "python3"
  },
  "language_info": {
   "codemirror_mode": {
    "name": "ipython",
    "version": 3
   },
   "file_extension": ".py",
   "mimetype": "text/x-python",
   "name": "python",
   "nbconvert_exporter": "python",
   "pygments_lexer": "ipython3",
   "version": "3.11.3"
  }
 },
 "nbformat": 4,
 "nbformat_minor": 5
}
