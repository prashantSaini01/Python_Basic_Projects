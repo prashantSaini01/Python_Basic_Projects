{
 "cells": [
  {
   "cell_type": "code",
   "execution_count": 9,
   "id": "0f458373",
   "metadata": {},
   "outputs": [
    {
     "name": "stdout",
     "output_type": "stream",
     "text": [
      "[{'country': 'France', 'visits': 12, 'cities': ['Paris', 'Lille', 'Dijon']}, {'country': 'Germany', 'visits': 5, 'cities': ['Berlin', 'Hamburg', 'Stuttgart']}, {'country': 'Russia', 'visits': 2, 'Cities': ['Moscow', 'Saint Petersburg']}]\n"
     ]
    }
   ],
   "source": [
    "travel_log = [\n",
    "{\n",
    "  \"country\": \"France\",\n",
    "  \"visits\": 12,\n",
    "  \"cities\": [\"Paris\", \"Lille\", \"Dijon\"]\n",
    "},\n",
    "{\n",
    "  \"country\": \"Germany\",\n",
    "  \"visits\": 5,\n",
    "  \"cities\": [\"Berlin\", \"Hamburg\", \"Stuttgart\"]\n",
    "},\n",
    "]\n",
    "#🚨 Do NOT change the code above\n",
    "\n",
    "#TODO: Write the function that will allow new countries\n",
    "#to be added to the travel_log. 👇\n",
    "def add_new_country(country,visits,cities):\n",
    "    new_dict = {}\n",
    "    new_dict[\"country\"] = country\n",
    "    new_dict[\"visits\"] = visits\n",
    "    new_dict[\"Cities\"] = cities\n",
    "\n",
    "    travel_log.append(new_dict)\n",
    "\n",
    "\n",
    "\n",
    "\n",
    "#🚨 Do not change the code below\n",
    "add_new_country(\"Russia\", 2, [\"Moscow\", \"Saint Petersburg\"])\n",
    "print(travel_log)\n"
   ]
  },
  {
   "cell_type": "code",
   "execution_count": 3,
   "id": "55ff062f",
   "metadata": {},
   "outputs": [],
   "source": [
    "travel_log = [\n",
    "{\n",
    "  \"country\": \"France\",\n",
    "  \"visits\": 12,\n",
    "  \"cities\": [\"Paris\", \"Lille\", \"Dijon\"]\n",
    "},\n",
    "{\n",
    "  \"country\": \"Germany\",\n",
    "  \"visits\": 5,\n",
    "  \"cities\": [\"Berlin\", \"Hamburg\", \"Stuttgart\"]\n",
    "},\n",
    "]"
   ]
  },
  {
   "cell_type": "code",
   "execution_count": 5,
   "id": "cd5b36d2",
   "metadata": {},
   "outputs": [
    {
     "name": "stdout",
     "output_type": "stream",
     "text": [
      "<class 'dict'>\n"
     ]
    }
   ],
   "source": []
  }
 ],
 "metadata": {
  "kernelspec": {
   "display_name": "Python 3 (ipykernel)",
   "language": "python",
   "name": "python3"
  },
  "language_info": {
   "codemirror_mode": {
    "name": "ipython",
    "version": 3
   },
   "file_extension": ".py",
   "mimetype": "text/x-python",
   "name": "python",
   "nbconvert_exporter": "python",
   "pygments_lexer": "ipython3",
   "version": "3.11.3"
  }
 },
 "nbformat": 4,
 "nbformat_minor": 5
}
