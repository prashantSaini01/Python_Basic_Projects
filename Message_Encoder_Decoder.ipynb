{
 "cells": [
  {
   "cell_type": "code",
   "execution_count": 11,
   "id": "d6c5f32f",
   "metadata": {},
   "outputs": [
    {
     "name": "stdout",
     "output_type": "stream",
     "text": [
      "           \n",
      "\n",
      " $$$$$$\\                      $$\\                            $$$$$$\\  $$$$$$\\ \n",
      "$$  __$$\\                     \\__|                          $$  __$$\\ \\_$$  _|\n",
      "$$ /  \\__| $$$$$$\\   $$$$$$\\  $$\\ $$$$$$$\\   $$$$$$\\        $$ /  $$ |  $$ |  \n",
      "\\$$$$$$\\  $$  __$$\\ $$  __$$\\ $$ |$$  __$$\\  \\____$$\\       $$$$$$$$ |  $$ |  \n",
      " \\____$$\\ $$$$$$$$ |$$ |  \\__|$$ |$$ |  $$ | $$$$$$$ |      $$  __$$ |  $$ |  \n",
      "$$\\   $$ |$$   ____|$$ |      $$ |$$ |  $$ |$$  __$$ |      $$ |  $$ |  $$ |  \n",
      "\\$$$$$$  |\\$$$$$$$\\ $$ |      $$ |$$ |  $$ |\\$$$$$$$ |      $$ |  $$ |$$$$$$\\ \n",
      " \\______/  \\_______|\\__|      \\__|\\__|  \\__| \\_______|      \\__|  \\__|\\______|\n",
      "                                                                              \n",
      "                                                                              \n",
      "                                                                              \n",
      "        \n",
      "\n",
      "Enter your profiledkjnd\n",
      "dkjnd Can I help you to encrypt or Decrypt the messagesno\n",
      "Have a nice day dkjnd\n"
     ]
    }
   ],
   "source": [
    "logo = \"\"\"           \n",
    "\n",
    " $$$$$$\\                      $$\\                            $$$$$$\\  $$$$$$\\ \n",
    "$$  __$$\\                     \\__|                          $$  __$$\\ \\_$$  _|\n",
    "$$ /  \\__| $$$$$$\\   $$$$$$\\  $$\\ $$$$$$$\\   $$$$$$\\        $$ /  $$ |  $$ |  \n",
    "\\$$$$$$\\  $$  __$$\\ $$  __$$\\ $$ |$$  __$$\\  \\____$$\\       $$$$$$$$ |  $$ |  \n",
    " \\____$$\\ $$$$$$$$ |$$ |  \\__|$$ |$$ |  $$ | $$$$$$$ |      $$  __$$ |  $$ |  \n",
    "$$\\   $$ |$$   ____|$$ |      $$ |$$ |  $$ |$$  __$$ |      $$ |  $$ |  $$ |  \n",
    "\\$$$$$$  |\\$$$$$$$\\ $$ |      $$ |$$ |  $$ |\\$$$$$$$ |      $$ |  $$ |$$$$$$\\ \n",
    " \\______/  \\_______|\\__|      \\__|\\__|  \\__| \\_______|      \\__|  \\__|\\______|\n",
    "                                                                              \n",
    "                                                                              \n",
    "                                                                              \n",
    "        \n",
    "\"\"\"\n",
    "\n",
    "\n",
    "print(logo)\n",
    "name = input(\"Enter your profile\")\n",
    "command = input(f\"{name} Can I help you to encrypt or Decrypt the messages\").lower()\n",
    "\n",
    "alphabet = ['a', 'b', 'c', 'd', 'e', 'f', 'g', 'h', 'i', 'j', 'k', 'l', 'm', 'n', 'o', 'p', 'q', 'r', 's', 't', 'u', 'v', 'w', 'x', 'y', 'z','a', 'b', 'c', 'd', 'e', 'f', 'g', 'h', 'i', 'j', 'k', 'l', 'm', 'n', 'o', 'p', 'q', 'r', 's', 't', 'u', 'v', 'w', 'x', 'y', 'z']\n",
    "\n",
    "def caesar():\n",
    "    direction = input(\"Type 'encode' to encrypt, type 'decode' to decrypt:\\n\")\n",
    "    text = input(\"Type your message:\\n\").lower()\n",
    "    shift = int(input(\"Type the shift number:\\n\"))\n",
    "\n",
    "\n",
    "\n",
    "    def cipher(text,shift,direction):\n",
    "    \n",
    "        if direction == \"decode\":\n",
    "            shift = shift *-1\n",
    "        \n",
    "    \n",
    "        cipher_text =\"\"\n",
    "        for i in text:\n",
    "            if i in alphabet:\n",
    "                new_position = (alphabet.index(i) + shift) % 26 \n",
    "                cipher_text+=alphabet[new_position]\n",
    "            else:\n",
    "                cipher_text+=i\n",
    "        print(f\"The cipher text is {cipher_text}\\n\")\n",
    "    \n",
    "    cipher(text,shift,direction)\n",
    "    flow = input(\"Type 'yes' if you want to again , otherwise type 'no'\\n \").lower()\n",
    "    if flow == \"yes\":\n",
    "        caesar()\n",
    "    else:\n",
    "        print(\"Good Bye Master\")\n",
    "    \n",
    "    \n",
    "# main code\n",
    "\n",
    "if command == \"yes\":\n",
    "    caesar()\n",
    "else:\n",
    "    print(f\"Have a nice day {name}\")\n"
   ]
  }
 ],
 "metadata": {
  "kernelspec": {
   "display_name": "Python 3 (ipykernel)",
   "language": "python",
   "name": "python3"
  },
  "language_info": {
   "codemirror_mode": {
    "name": "ipython",
    "version": 3
   },
   "file_extension": ".py",
   "mimetype": "text/x-python",
   "name": "python",
   "nbconvert_exporter": "python",
   "pygments_lexer": "ipython3",
   "version": "3.11.3"
  }
 },
 "nbformat": 4,
 "nbformat_minor": 5
}
