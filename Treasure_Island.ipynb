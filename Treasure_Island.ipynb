{
 "cells": [
  {
   "cell_type": "code",
   "execution_count": 13,
   "id": "9bdad2ab",
   "metadata": {},
   "outputs": [
    {
     "name": "stdout",
     "output_type": "stream",
     "text": [
      "Welcome to the Treasure Island\n",
      "Your mission to find the treasure.\n",
      "You're at a cross road. Where do you want to go? Type 'left' or 'right ' left\n",
      "You come to a lake. There is an island in the middle of the lake. Type 'wait' for a boat. Type 'swim' to swim across wait\n",
      "You arrive at the island unharmed. There is a house with 3 doors, One red, one yellow and one blue. Which color do you choose ? dfdf\n",
      "you choose a wrong Gate . GAMEOVER !!!\n"
     ]
    }
   ],
   "source": [
    "print(\"Welcome to the Treasure Island\\nYour mission to find the treasure.\")\n",
    "\n",
    "choice1 = input(\"You're at a cross road. Where do you want to go? Type 'left' or 'right ' \").lower()\n",
    "    \n",
    "if choice1 == \"left\":\n",
    "    choice2 = input(\"You come to a lake. There is an island in the middle of the lake. Type 'wait' for a boat. Type 'swim' to swim across \").lower()\n",
    "    if choice2 == \"wait\":\n",
    "        \n",
    "        choice3 = input(\"You arrive at the island unharmed. There is a house with 3 doors, One red, one yellow and one blue. Which color do you choose ? \").lower()\n",
    "        if choice3 == \"red\":\n",
    "            print(\"The door is open and full of fire . GAMEOVER !!!\")\n",
    "        elif choice3 == \"yellow\":\n",
    "            print(\"The door opens and a golden light comes room is full of treasure . finally you WIN !!!!!\")\n",
    "        elif choice3 == \"blue\":\n",
    "            print(\"The door opens and a room full of water . GAMEOVER !!!\")\n",
    "        else :\n",
    "            print(\"you choose a wrong Gate . GAMEOVER !!!\")\n",
    "    elif choice2 == \"wait\":\n",
    "        print(\"You try to swim but there are crocodiles in the lake. GAMEOVER !!! \")\n",
    "                    \n",
    "    else:\n",
    "        print(\"You Awake this is only a dream . A dream of Treasure Island\")\n",
    "                \n",
    "                \n",
    "elif choice1 ==\"right\" :\n",
    "    print(\"Robbers arrrive and catch you. GAMEOVER !!!\")\n",
    "                \n",
    "else :\n",
    "    print(\"You not choose anything Angry Trout come and kill you. GAMEOVER !!!\")\n",
    "                \n",
    "# points to remember we also think about the case sensitiveness and wrong choice"
   ]
  },
  {
   "cell_type": "code",
   "execution_count": null,
   "id": "84e4d1a9",
   "metadata": {},
   "outputs": [],
   "source": []
  },
  {
   "cell_type": "code",
   "execution_count": null,
   "id": "50d5e373",
   "metadata": {},
   "outputs": [],
   "source": []
  },
  {
   "cell_type": "code",
   "execution_count": null,
   "id": "35f239f4",
   "metadata": {},
   "outputs": [],
   "source": []
  },
  {
   "cell_type": "code",
   "execution_count": null,
   "id": "7db53714",
   "metadata": {},
   "outputs": [],
   "source": []
  },
  {
   "cell_type": "code",
   "execution_count": null,
   "id": "d14c932f",
   "metadata": {},
   "outputs": [],
   "source": []
  },
  {
   "cell_type": "code",
   "execution_count": null,
   "id": "47c03649",
   "metadata": {},
   "outputs": [],
   "source": []
  }
 ],
 "metadata": {
  "kernelspec": {
   "display_name": "Python 3 (ipykernel)",
   "language": "python",
   "name": "python3"
  },
  "language_info": {
   "codemirror_mode": {
    "name": "ipython",
    "version": 3
   },
   "file_extension": ".py",
   "mimetype": "text/x-python",
   "name": "python",
   "nbconvert_exporter": "python",
   "pygments_lexer": "ipython3",
   "version": "3.11.3"
  }
 },
 "nbformat": 4,
 "nbformat_minor": 5
}
