{
 "cells": [
  {
   "cell_type": "markdown",
   "id": "a8c3d8e0",
   "metadata": {},
   "source": [
    "# Band Name Generator"
   ]
  },
  {
   "cell_type": "code",
   "execution_count": 14,
   "id": "e6694a6f",
   "metadata": {},
   "outputs": [
    {
     "name": "stdout",
     "output_type": "stream",
     "text": [
      "Welcome to the Band Name Generator.\n",
      "What's name of the city you grw up in?\n",
      " meerur\n",
      "What's your pet's name?\n",
      "alexa\n",
      "Your band name could be meerur alexa\n"
     ]
    }
   ],
   "source": [
    "print(\"Welcome to the Band Name Generator.\")\n",
    "\n",
    "city = input(\"What's name of the city you grw up in?\\n \")\n",
    "\n",
    "pet = input(\"What's your pet's name?\\n\")\n",
    "\n",
    "band_name = city + \" \" + pet\n",
    "\n",
    "print(f\"Your band name could be {band_name}\")\n"
   ]
  }
 ],
 "metadata": {
  "kernelspec": {
   "display_name": "Python 3 (ipykernel)",
   "language": "python",
   "name": "python3"
  },
  "language_info": {
   "codemirror_mode": {
    "name": "ipython",
    "version": 3
   },
   "file_extension": ".py",
   "mimetype": "text/x-python",
   "name": "python",
   "nbconvert_exporter": "python",
   "pygments_lexer": "ipython3",
   "version": "3.11.3"
  }
 },
 "nbformat": 4,
 "nbformat_minor": 5
}
