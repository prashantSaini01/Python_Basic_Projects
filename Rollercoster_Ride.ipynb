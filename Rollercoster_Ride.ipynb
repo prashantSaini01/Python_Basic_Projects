{
 "cells": [
  {
   "cell_type": "code",
   "execution_count": 21,
   "id": "99beee4c",
   "metadata": {},
   "outputs": [
    {
     "name": "stdout",
     "output_type": "stream",
     "text": [
      "Welcome ro the rollercoaster\n",
      "What is the height in cm ? 127\n",
      "You can ride the rollercoaster!!\n",
      "What is your age  ?10\n",
      " Children 5$ for the ticket\n",
      "Do you want photos ? yes or no !!yes\n",
      "you need to pay 8$ for the ticket\n"
     ]
    }
   ],
   "source": [
    "print(\"Welcome ro the rollercoaster\")\n",
    "\n",
    "height = int(input(\"What is the height in cm ? \"))\n",
    "\n",
    "if height >=120:\n",
    "    print(\"You can ride the rollercoaster!!\")\n",
    "    \n",
    "    age = int(input(\"What is your age  ?\"))\n",
    "    if age <12:\n",
    "        bill = 5\n",
    "        print(\" Children 5$ for the ticket\")\n",
    "    elif age <=18 and age >=12:\n",
    "        bill = 7\n",
    "        print(\"Youth 7$ for the ticket\")\n",
    "    elif age >=45 and age <=55:\n",
    "        bill = 0 \n",
    "        print(\"Everything is going to be ok. Have a free ride on us!\")\n",
    "    else:\n",
    "        bill = 12\n",
    "        print(\"Adult 12$ for the ticket\")\n",
    "else:\n",
    "    print(\"Sorry, you can have to grow taller before you can rise.\")\n",
    "photo = input(\"Do you want photos ? yes or no !!\")\n",
    "\n",
    "if photo == \"yes\":\n",
    "    total = bill + 3\n",
    "else:\n",
    "    total = bill\n",
    "    \n",
    "print(f\"you need to pay {total}$ for the ticket\")\n"
   ]
  },
  {
   "cell_type": "code",
   "execution_count": 9,
   "id": "7842c52b",
   "metadata": {},
   "outputs": [
    {
     "name": "stdout",
     "output_type": "stream",
     "text": [
      "Enter the number94\n",
      "Even\n"
     ]
    }
   ],
   "source": []
  }
 ],
 "metadata": {
  "kernelspec": {
   "display_name": "Python 3 (ipykernel)",
   "language": "python",
   "name": "python3"
  },
  "language_info": {
   "codemirror_mode": {
    "name": "ipython",
    "version": 3
   },
   "file_extension": ".py",
   "mimetype": "text/x-python",
   "name": "python",
   "nbconvert_exporter": "python",
   "pygments_lexer": "ipython3",
   "version": "3.11.3"
  }
 },
 "nbformat": 4,
 "nbformat_minor": 5
}
