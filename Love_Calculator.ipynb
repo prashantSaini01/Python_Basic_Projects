{
 "cells": [
  {
   "cell_type": "code",
   "execution_count": 27,
   "id": "bd5c9010",
   "metadata": {},
   "outputs": [
    {
     "name": "stdout",
     "output_type": "stream",
     "text": [
      "Welcome to Love Calculator\n",
      "What is your name ?\n",
      "Sarthak Vats\n",
      "What is their name ?\n",
      "Serina Nofil\n",
      "Your Love score is 53\n"
     ]
    }
   ],
   "source": [
    "print(\"Welcome to Love Calculator\")\n",
    "\n",
    "name1 = input(\"What is your name ?\\n\")\n",
    "name2 = input(\"What is their name ?\\n\")\n",
    "\n",
    "combined_string = name1 + name2\n",
    "\n",
    "t = combined_string.count(\"t\")\n",
    "r = combined_string.count(\"r\")\n",
    "u = combined_string.count(\"u\")\n",
    "e = combined_string.count(\"e\")\n",
    "\n",
    "true = t + r + u + e\n",
    "l = combined_string.count(\"l\")\n",
    "o = combined_string.count(\"o\")\n",
    "v = combined_string.count(\"v\")\n",
    "e = combined_string.count(\"e\")\n",
    "\n",
    "love = l + o + v + e\n",
    "\n",
    "score = int(str(true) + str(love))\n",
    "\n",
    "if (score < 10 or score > 90):\n",
    "    print(f\"Your Love score is {score}, you go together like coke and mentos\")\n",
    "    \n",
    "elif score > 40 and score <50: \n",
    "    print(f\"Your Love score is {score} , you are alright together\")\n",
    "\n",
    "else:\n",
    "    print(f\"Your Love score is {score}\")\n"
   ]
  },
  {
   "cell_type": "code",
   "execution_count": 4,
   "id": "7475b936",
   "metadata": {},
   "outputs": [
    {
     "name": "stdout",
     "output_type": "stream",
     "text": [
      "Love_Calculator_Prank\n",
      "What is your name ?\n",
      "s\n",
      "What is their name ?\n",
      "x\n",
      "your love_score is 95\n"
     ]
    }
   ],
   "source": [
    "import random\n",
    "\n",
    "\n",
    "print(\"Love_Calculator_Prank\")\n",
    "\n",
    "\n",
    "name1 = input(\"What is your name ?\\n\")\n",
    "name2 = input(\"What is their name ?\\n\")\n",
    "\n",
    "love_score = random.randint(1,100)\n",
    "\n",
    "print(f\"your love_score is {love_score}\")"
   ]
  }
 ],
 "metadata": {
  "kernelspec": {
   "display_name": "Python 3 (ipykernel)",
   "language": "python",
   "name": "python3"
  },
  "language_info": {
   "codemirror_mode": {
    "name": "ipython",
    "version": 3
   },
   "file_extension": ".py",
   "mimetype": "text/x-python",
   "name": "python",
   "nbconvert_exporter": "python",
   "pygments_lexer": "ipython3",
   "version": "3.11.3"
  }
 },
 "nbformat": 4,
 "nbformat_minor": 5
}
