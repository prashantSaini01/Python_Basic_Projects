{
 "cells": [
  {
   "cell_type": "markdown",
   "id": "c4097d76",
   "metadata": {},
   "source": [
    "# Simple Version"
   ]
  },
  {
   "cell_type": "code",
   "execution_count": 2,
   "id": "a87eeeae",
   "metadata": {},
   "outputs": [
    {
     "name": "stdout",
     "output_type": "stream",
     "text": [
      "Welcome to the PyPassword Generator !\n",
      "How many letters would you like in your password45\n",
      "How many symbols would you like22\n",
      "How many numbets would you like222\n",
      "Here is your heePkkSkrYPNJZTSXGiXDNNGHMBOjGiggQUQSRTqDqmzn/&><{(+{,};(#+}*!*>;</141465081726332211793055209734747914073895039777439483598177407705765946480670271891362717795726345570091568161752757778602129276438115606880416300231681098046939674604261600560413539069977797820647080248662844026272046582\n"
     ]
    }
   ],
   "source": [
    "import random\n",
    "import string\n",
    "\n",
    "\n",
    "alphabet = list(string.ascii_lowercase + string.ascii_uppercase)\n",
    "number = [0, 1, 2, 3, 4, 5, 6, 7, 8, 9]\n",
    "symbol = ['!', '@', '#', '$', '%', '&', '*', '(', ')', '-', '_', '+', '=', '{', '}', '[', ']', ':', ';', ',', '.', '<', '>', '/', '?']\n",
    "\n",
    "print(\"Welcome to the PyPassword Generator !\")\n",
    "\n",
    "letters = int(input(\"How many letters would you like in your password \"))\n",
    "symbols = int(input(\"How many symbols would you like \"))\n",
    "numbers = int(input(\"How many numbets would you like \"))\n",
    "\n",
    "l = \"\"\n",
    "s = \"\"\n",
    "n = \"\"\n",
    "\n",
    "for i in range(letters):\n",
    "    l+=random.choice(alphabet)\n",
    "for i in range(symbols):\n",
    "    s+=random.choice(symbol)\n",
    "for i in range (numbers):\n",
    "    n+=str(random.choice(number))\n",
    "password = l + s + n\n",
    "\n",
    "print(f\"Here is your {password}\")"
   ]
  },
  {
   "cell_type": "markdown",
   "id": "d396854a",
   "metadata": {},
   "source": [
    "# Hard Version"
   ]
  },
  {
   "cell_type": "code",
   "execution_count": 5,
   "id": "88dba76c",
   "metadata": {},
   "outputs": [
    {
     "name": "stdout",
     "output_type": "stream",
     "text": [
      "Welcome to the PyPassword Generator !\n",
      "How many letters would you like in your password 12\n",
      "How many symbols would you like 2\n",
      "How many numbets would you like 4\n",
      "Here is your Vhn8dQXa+oB80cym6-\n"
     ]
    }
   ],
   "source": [
    "import random\n",
    "import string\n",
    "\n",
    "\n",
    "alphabet = list(string.ascii_lowercase + string.ascii_uppercase)\n",
    "number = [0, 1, 2, 3, 4, 5, 6, 7, 8, 9]\n",
    "symbol = ['!', '@', '#', '$', '%', '&', '*', '(', ')', '-', '_', '+', '=', '{', '}', '[', ']', ':', ';', ',', '.', '<', '>', '/', '?']\n",
    "\n",
    "print(\"Welcome to the PyPassword Generator !\")\n",
    "\n",
    "letters = int(input(\"How many letters would you like in your password \"))\n",
    "symbols = int(input(\"How many symbols would you like \"))\n",
    "numbers = int(input(\"How many numbets would you like \"))\n",
    "\n",
    "password_list = []\n",
    "\n",
    "for i in range(letters):\n",
    "    password_list+=random.choice(alphabet)\n",
    "for i in range(symbols):\n",
    "    password_list+=random.choice(symbol)\n",
    "for i in range (numbers):\n",
    "    password_list+=str(random.choice(number))\n",
    "    \n",
    "#Important Function to shuffle the list    \n",
    "random.shuffle(password_list)\n",
    "\n",
    "password = \"\".join(password_list)\n",
    "\n",
    "print(f\"Here is your {password}\")"
   ]
  }
 ],
 "metadata": {
  "kernelspec": {
   "display_name": "Python 3 (ipykernel)",
   "language": "python",
   "name": "python3"
  },
  "language_info": {
   "codemirror_mode": {
    "name": "ipython",
    "version": 3
   },
   "file_extension": ".py",
   "mimetype": "text/x-python",
   "name": "python",
   "nbconvert_exporter": "python",
   "pygments_lexer": "ipython3",
   "version": "3.11.3"
  }
 },
 "nbformat": 4,
 "nbformat_minor": 5
}
