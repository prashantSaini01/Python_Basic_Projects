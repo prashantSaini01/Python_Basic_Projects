{
 "cells": [
  {
   "cell_type": "code",
   "execution_count": 10,
   "id": "bb02faef",
   "metadata": {},
   "outputs": [
    {
     "name": "stdout",
     "output_type": "stream",
     "text": [
      "Welcome to the Sam's Pizza shop\n",
      "What's the size do yo want? S,M,LL\n",
      "Do you want pepperoni ? Y or NY\n",
      "Do you want extra cheese ? Y or NN\n",
      "You need to pay 28$ for the pizza\n"
     ]
    }
   ],
   "source": [
    "print(\"Welcome to the Sam's Pizza shop\")\n",
    "\n",
    "size = input(\"What's the size do yo want? S,M,L\")\n",
    "\n",
    "add_pepperoni =input(\"Do you want pepperoni ? Y or N\")\n",
    "\n",
    "extra_cheese = input(\"Do you want extra cheese ? Y or N\")\n",
    "\n",
    "if size == \"S\":\n",
    "    price = 15\n",
    "    if add_pepperoni == \"Y\":\n",
    "        price+=2\n",
    "    if extra_cheese ==\"Y\":\n",
    "        price+=1\n",
    "elif size == \"M\":\n",
    "    price = 20\n",
    "    if add_pepperoni == \"Y\":\n",
    "        price+=3\n",
    "    if extra_cheese ==\"Y\":\n",
    "        price+=1\n",
    "else:\n",
    "    price = 25 \n",
    "    if add_pepperoni == \"Y\":\n",
    "        price+=3\n",
    "    if extra_cheese ==\"Y\":\n",
    "        price+=1\n",
    "\n",
    "print(f\"You need to pay {price}$ for the pizza\")\n",
    "    \n"
   ]
  }
 ],
 "metadata": {
  "kernelspec": {
   "display_name": "Python 3 (ipykernel)",
   "language": "python",
   "name": "python3"
  },
  "language_info": {
   "codemirror_mode": {
    "name": "ipython",
    "version": 3
   },
   "file_extension": ".py",
   "mimetype": "text/x-python",
   "name": "python",
   "nbconvert_exporter": "python",
   "pygments_lexer": "ipython3",
   "version": "3.11.3"
  }
 },
 "nbformat": 4,
 "nbformat_minor": 5
}
