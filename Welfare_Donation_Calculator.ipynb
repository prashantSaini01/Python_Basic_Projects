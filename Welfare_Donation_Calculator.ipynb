{
 "cells": [
  {
   "cell_type": "code",
   "execution_count": 4,
   "id": "ba244189",
   "metadata": {},
   "outputs": [
    {
     "name": "stdout",
     "output_type": "stream",
     "text": [
      "Welcome to the Welfare Donation Calculator\n",
      "What was the total bill ? Rs124.56\n",
      "What percentage donation would you like to give  ? 10,12, or 15 ? 12\n",
      "How many people to split the amount ?7\n",
      "Each person should pay: Rs19.93 for donation\n",
      "Kahna ji always bless you son\n"
     ]
    }
   ],
   "source": [
    "print(\"Welcome to the Welfare Donation Calculator\")\n",
    "\n",
    "bill = float(input(\"What was the total bill ? Rs\"))\n",
    "\n",
    "percent = int(input(\"What percentage donation would you like to give  ? 10,12, or 15 ? \"))\n",
    "\n",
    "people = int(input(\"How many people to split the amount ?\"))\n",
    "\n",
    "indi_bill = round((bill+(bill*percent)/100)/people,2)\n",
    "\n",
    "print(f\"Each person should pay: Rs{indi_bill} for donation\")\n",
    "\n",
    "print(\"Kahna ji always bless you son\")"
   ]
  }
 ],
 "metadata": {
  "kernelspec": {
   "display_name": "Python 3 (ipykernel)",
   "language": "python",
   "name": "python3"
  },
  "language_info": {
   "codemirror_mode": {
    "name": "ipython",
    "version": 3
   },
   "file_extension": ".py",
   "mimetype": "text/x-python",
   "name": "python",
   "nbconvert_exporter": "python",
   "pygments_lexer": "ipython3",
   "version": "3.11.3"
  }
 },
 "nbformat": 4,
 "nbformat_minor": 5
}
