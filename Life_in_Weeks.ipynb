{
 "cells": [
  {
   "cell_type": "code",
   "execution_count": 7,
   "id": "141a1d5f",
   "metadata": {},
   "outputs": [
    {
     "name": "stdout",
     "output_type": "stream",
     "text": [
      "What is your current age 56\n",
      "You have 12410 days, 1768 weeks and 408 months left.\n"
     ]
    }
   ],
   "source": [
    "age = int(input(\"What is your current age \"))\n",
    "\n",
    "left = 90-age\n",
    "\n",
    "months = left*12\n",
    "weeks = left *52\n",
    "days = left *365\n",
    "\n",
    "print(f\"You have {days} days, {weeks} weeks and {months} months left.\")\n"
   ]
  }
 ],
 "metadata": {
  "kernelspec": {
   "display_name": "Python 3 (ipykernel)",
   "language": "python",
   "name": "python3"
  },
  "language_info": {
   "codemirror_mode": {
    "name": "ipython",
    "version": 3
   },
   "file_extension": ".py",
   "mimetype": "text/x-python",
   "name": "python",
   "nbconvert_exporter": "python",
   "pygments_lexer": "ipython3",
   "version": "3.11.3"
  }
 },
 "nbformat": 4,
 "nbformat_minor": 5
}
