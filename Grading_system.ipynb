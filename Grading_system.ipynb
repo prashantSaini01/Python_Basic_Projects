{
 "cells": [
  {
   "cell_type": "code",
   "execution_count": 2,
   "id": "3fe8a96b",
   "metadata": {},
   "outputs": [],
   "source": [
    "import os\n",
    "import time"
   ]
  },
  {
   "cell_type": "code",
   "execution_count": 3,
   "id": "fb2d865c",
   "metadata": {},
   "outputs": [],
   "source": [
    "def marks_validator(subject):\n",
    "\n",
    "  count=1\n",
    "  while True:\n",
    "      subj=int(input(\"Enter the marks of {} \".format(subject)))\n",
    "      if subj>100 or subj<0:\n",
    "          count+=1\n",
    "          print(\"Please enter a valid marks\")\n",
    "          if count>5:\n",
    "              print(\"Wait for 10 second, then continue\")\n",
    "              time.sleep(10)\n",
    "      else:\n",
    "          #print(\"Marks of {} entered succesffully\".format(subject))\n",
    "          return subj   "
   ]
  },
  {
   "cell_type": "code",
   "execution_count": 4,
   "id": "6726d122",
   "metadata": {},
   "outputs": [],
   "source": [
    "def grade(sum):\n",
    "  result=\"\"\n",
    "  avg = (sum)/50\n",
    "  if avg > 9:\n",
    "    result=\"you passesd with Grade A\"\n",
    "  elif avg > 8:\n",
    "    result=\"you passesd with Grade B\"\n",
    "  elif avg > 7:\n",
    "    result=\"you passesd with Grade C\"\n",
    "  elif avg > 6:\n",
    "    result=\"you passesd with Grade D\"\n",
    "  elif avg > 5:\n",
    "    result=\"you passesd with Grade E\"\n",
    "  else:\n",
    "    result=\"you passesd with Grade F\"\n",
    "  return result \n",
    "    "
   ]
  },
  {
   "cell_type": "code",
   "execution_count": 5,
   "id": "d4e78160",
   "metadata": {},
   "outputs": [
    {
     "name": "stdout",
     "output_type": "stream",
     "text": [
      " ██████╗ ██████╗  █████╗ ██████╗ ██╗███╗   ██╗ ██████╗     ███████╗██╗   ██╗███████╗████████╗███████╗███╗   ███╗\n",
      "██╔════╝ ██╔══██╗██╔══██╗██╔══██╗██║████╗  ██║██╔════╝     ██╔════╝╚██╗ ██╔╝██╔════╝╚══██╔══╝██╔════╝████╗ ████║\n",
      "██║  ███╗██████╔╝███████║██║  ██║██║██╔██╗ ██║██║  ███╗    ███████╗ ╚████╔╝ ███████╗   ██║   █████╗  ██╔████╔██║\n",
      "██║   ██║██╔══██╗██╔══██║██║  ██║██║██║╚██╗██║██║   ██║    ╚════██║  ╚██╔╝  ╚════██║   ██║   ██╔══╝  ██║╚██╔╝██║\n",
      "╚██████╔╝██║  ██║██║  ██║██████╔╝██║██║ ╚████║╚██████╔╝    ███████║   ██║   ███████║   ██║   ███████╗██║ ╚═╝ ██║\n",
      " ╚═════╝ ╚═╝  ╚═╝╚═╝  ╚═╝╚═════╝ ╚═╝╚═╝  ╚═══╝ ╚═════╝     ╚══════╝   ╚═╝   ╚══════╝   ╚═╝   ╚══════╝╚═╝     ╚═╝\n"
     ]
    }
   ],
   "source": [
    "print(\" ██████╗ ██████╗  █████╗ ██████╗ ██╗███╗   ██╗ ██████╗     ███████╗██╗   ██╗███████╗████████╗███████╗███╗   ███╗\")\n",
    "print(\"██╔════╝ ██╔══██╗██╔══██╗██╔══██╗██║████╗  ██║██╔════╝     ██╔════╝╚██╗ ██╔╝██╔════╝╚══██╔══╝██╔════╝████╗ ████║\")\n",
    "print(\"██║  ███╗██████╔╝███████║██║  ██║██║██╔██╗ ██║██║  ███╗    ███████╗ ╚████╔╝ ███████╗   ██║   █████╗  ██╔████╔██║\")\n",
    "print(\"██║   ██║██╔══██╗██╔══██║██║  ██║██║██║╚██╗██║██║   ██║    ╚════██║  ╚██╔╝  ╚════██║   ██║   ██╔══╝  ██║╚██╔╝██║\")\n",
    "print(\"╚██████╔╝██║  ██║██║  ██║██████╔╝██║██║ ╚████║╚██████╔╝    ███████║   ██║   ███████║   ██║   ███████╗██║ ╚═╝ ██║\")\n",
    "print(\" ╚═════╝ ╚═╝  ╚═╝╚═╝  ╚═╝╚═════╝ ╚═╝╚═╝  ╚═══╝ ╚═════╝     ╚══════╝   ╚═╝   ╚══════╝   ╚═╝   ╚══════╝╚═╝     ╚═╝\")\n",
    "       "
   ]
  },
  {
   "cell_type": "code",
   "execution_count": 6,
   "id": "c4675e58",
   "metadata": {},
   "outputs": [
    {
     "name": "stdout",
     "output_type": "stream",
     "text": [
      "Welcome to Grading System\n"
     ]
    }
   ],
   "source": [
    "print(\"Welcome to Grading System\")"
   ]
  },
  {
   "cell_type": "code",
   "execution_count": 7,
   "id": "be02b4d5",
   "metadata": {},
   "outputs": [
    {
     "name": "stdout",
     "output_type": "stream",
     "text": [
      "Enter the marks of Mathematics 85\n",
      "Enter the marks of Science 45\n",
      "Enter the marks of Hindi 41\n",
      "Enter the marks of English 63\n",
      "Enter the marks of Social_Science 89\n",
      "Marks of all subjects entered sucessfully\n",
      "you passesd with Grade D\n"
     ]
    }
   ],
   "source": [
    "math=marks_validator(\"Mathematics\")\n",
    "science=marks_validator(\"Science\")\n",
    "hindi=marks_validator(\"Hindi\")\n",
    "english=marks_validator(\"English\")\n",
    "sst=marks_validator(\"Social_Science\")\n",
    "\n",
    "print(\"Marks of all subjects entered sucessfully\")\n",
    "if (math<33 or science<33 or hindi<33 or english<33 or sst<33):\n",
    "  print(\"You failed in exam\")\n",
    "else:\n",
    "  total=math+science+hindi+english+sst\n",
    "  print(grade(total))  \n"
   ]
  }
 ],
 "metadata": {
  "kernelspec": {
   "display_name": "Python 3 (ipykernel)",
   "language": "python",
   "name": "python3"
  },
  "language_info": {
   "codemirror_mode": {
    "name": "ipython",
    "version": 3
   },
   "file_extension": ".py",
   "mimetype": "text/x-python",
   "name": "python",
   "nbconvert_exporter": "python",
   "pygments_lexer": "ipython3",
   "version": "3.11.1"
  }
 },
 "nbformat": 4,
 "nbformat_minor": 5
}
