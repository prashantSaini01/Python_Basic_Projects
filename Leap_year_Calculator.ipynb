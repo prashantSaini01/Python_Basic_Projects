{
 "cells": [
  {
   "cell_type": "code",
   "execution_count": 5,
   "id": "861d1f4b",
   "metadata": {},
   "outputs": [
    {
     "name": "stdout",
     "output_type": "stream",
     "text": [
      "Welcome_to_leap_year_calculator\n",
      "Which year do you want to check ?2000\n",
      "The year 2000 is leap year\n"
     ]
    }
   ],
   "source": [
    "print(\"Welcome_to_leap_year_calculator\")\n",
    "\n",
    "year = int(input(\"Which year do you want to check ?\"))\n",
    "\n",
    "if year%4 ==0:\n",
    "    if year %100==0:\n",
    "        if year %400==0:\n",
    "            outcome = \"leap\"\n",
    "        else:\n",
    "            outcome =\"not_leap\"\n",
    "    else:\n",
    "        outcome =\"leap\"\n",
    "else:\n",
    "    outcome =\"not_leap\"\n",
    "    \n",
    "print(f\"The year {year} is {outcome} year\")"
   ]
  }
 ],
 "metadata": {
  "kernelspec": {
   "display_name": "Python 3 (ipykernel)",
   "language": "python",
   "name": "python3"
  },
  "language_info": {
   "codemirror_mode": {
    "name": "ipython",
    "version": 3
   },
   "file_extension": ".py",
   "mimetype": "text/x-python",
   "name": "python",
   "nbconvert_exporter": "python",
   "pygments_lexer": "ipython3",
   "version": "3.11.3"
  }
 },
 "nbformat": 4,
 "nbformat_minor": 5
}
